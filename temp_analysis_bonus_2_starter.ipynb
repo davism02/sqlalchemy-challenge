{
 "cells": [
  {
   "cell_type": "code",
   "execution_count": 28,
   "metadata": {},
   "outputs": [],
   "source": [
    "%matplotlib inline\n",
    "from matplotlib import style\n",
    "style.use('fivethirtyeight')\n",
    "import matplotlib.pyplot as plt\n",
    "import matplotlib.ticker as mtick"
   ]
  },
  {
   "cell_type": "code",
   "execution_count": 2,
   "metadata": {},
   "outputs": [],
   "source": [
    "import numpy as np\n",
    "import pandas as pd\n",
    "import datetime as dt"
   ]
  },
  {
   "cell_type": "markdown",
   "metadata": {},
   "source": [
    "## Reflect Tables into SQLALchemy ORM"
   ]
  },
  {
   "cell_type": "code",
   "execution_count": 3,
   "metadata": {},
   "outputs": [],
   "source": [
    "# Python SQL toolkit and Object Relational Mapper\n",
    "import sqlalchemy\n",
    "from sqlalchemy.ext.automap import automap_base\n",
    "from sqlalchemy.orm import Session\n",
    "from sqlalchemy import create_engine, func"
   ]
  },
  {
   "cell_type": "code",
   "execution_count": 6,
   "metadata": {},
   "outputs": [],
   "source": [
    "# create engine to hawaii.sqlite\n",
    "engine = create_engine(\"sqlite:///hawaii.sqlite\")"
   ]
  },
  {
   "cell_type": "code",
   "execution_count": 8,
   "metadata": {},
   "outputs": [],
   "source": [
    "# reflect an existing database into a new model\n",
    "db = automap_base()\n",
    "# reflect the tables\n",
    "db.prepare(engine, reflect=True)"
   ]
  },
  {
   "cell_type": "code",
   "execution_count": 13,
   "metadata": {},
   "outputs": [
    {
     "data": {
      "text/plain": [
       "['measurement', 'station']"
      ]
     },
     "execution_count": 13,
     "metadata": {},
     "output_type": "execute_result"
    }
   ],
   "source": [
    "# View all of the classes that automap found\n",
    "db.classes.keys()"
   ]
  },
  {
   "cell_type": "code",
   "execution_count": 33,
   "metadata": {},
   "outputs": [],
   "source": [
    "# Save references to each table\n",
    "Measurement = db.classes.measurement\n",
    "Station = db.classes.station"
   ]
  },
  {
   "cell_type": "code",
   "execution_count": 18,
   "metadata": {},
   "outputs": [],
   "source": [
    "# Create our session (link) from Python to the DB\n",
    "session = Session(engine)"
   ]
  },
  {
   "cell_type": "markdown",
   "metadata": {},
   "source": [
    "## Bonus Challenge Assignment: Temperature Analysis II"
   ]
  },
  {
   "cell_type": "code",
   "execution_count": 19,
   "metadata": {},
   "outputs": [
    {
     "name": "stdout",
     "output_type": "stream",
     "text": [
      "[(62.0, 69.57142857142857, 74.0)]\n"
     ]
    }
   ],
   "source": [
    "# This function called `calc_temps` will accept start date and end date in the format '%Y-%m-%d' \n",
    "# and return the minimum, maximum, and average temperatures for that range of dates\n",
    "def calc_temps(start_date, end_date):\n",
    "    \"\"\"TMIN, TAVG, and TMAX for a list of dates.\n",
    "    \n",
    "    Args:\n",
    "        start_date (string): A date string in the format %Y-%m-%d\n",
    "        end_date (string): A date string in the format %Y-%m-%d\n",
    "        \n",
    "    Returns:\n",
    "        TMIN, TAVE, and TMAX\n",
    "    \"\"\"\n",
    "    \n",
    "    return session.query(func.min(Measurement.tobs), func.avg(Measurement.tobs), func.max(Measurement.tobs)).\\\n",
    "        filter(Measurement.date >= start_date).filter(Measurement.date <= end_date).all()\n",
    "\n",
    "# For example\n",
    "print(calc_temps('2012-02-28', '2012-03-05'))"
   ]
  },
  {
   "cell_type": "code",
   "execution_count": 30,
   "metadata": {},
   "outputs": [
    {
     "name": "stdout",
     "output_type": "stream",
     "text": [
      "2017 - tmin: 58.0, tavg: 74.14, tmax: 87.0\n"
     ]
    }
   ],
   "source": [
    "# Use the function `calc_temps` to calculate the tmin, tavg, and tmax \n",
    "# for a year in the data set\n",
    "trip_year=2017\n",
    "tmin, tavg, tmax = calc_temps(f\"{trip_year}-01-01\", f\"{trip_year}-12-31\")[0]\n",
    "print(f\"{trip_year} - tmin: {round(tmin,2)}, tavg: {round(tavg,2)}, tmax: {round(tmax,2)}\")"
   ]
  },
  {
   "cell_type": "code",
   "execution_count": 31,
   "metadata": {},
   "outputs": [
    {
     "data": {
      "image/png": "[encoded data removed]",
      "text/plain": [
       "<Figure size 216x432 with 1 Axes>"
      ]
     },
     "metadata": {},
     "output_type": "display_data"
    }
   ],
   "source": [
    "# Plot the results from your previous query as a bar chart. \n",
    "# Use \"Trip Avg Temp\" as your Title\n",
    "# Use the average temperature for bar height (y value)\n",
    "# Use the peak-to-peak (tmax-tmin) value as the y error bar (yerr)\n",
    "fig, ax = plt.subplots(1, 1, figsize = (3, 6))\n",
    "plt.errorbar(\n",
    "    x = 0, \n",
    "    y = tavg,\n",
    "    yerr = tmax - tmin,\n",
    "    elinewidth=3,\n",
    "    color = \"black\",\n",
    "    alpha = 0.6\n",
    ")\n",
    "\n",
    "plt.bar(\n",
    "    x = 0, \n",
    "    height = tavg,\n",
    "    color = \"blue\",\n",
    "    alpha = 0.6\n",
    ")\n",
    "ax.xaxis.set_major_formatter(mtick.StrMethodFormatter('')) \n",
    "ax.yaxis.set_major_formatter(mtick.StrMethodFormatter('{x:,.0f}°'))\n",
    "plt.title(f\"Trip Avg Temp ({trip_year})\")\n",
    "plt.xlabel('')\n",
    "plt.ylabel('Temperature (°F)')\n",
    "plt.tight_layout()\n",
    "plt.savefig(f'Images/bonus_2_trip_avg_temp_{trip_year}.png', bbox_inches = \"tight\")\n",
    "plt.show()\n"
   ]
  },
  {
   "cell_type": "markdown",
   "metadata": {},
   "source": [
    "### Daily Rainfall Average"
   ]
  },
  {
   "cell_type": "code",
   "execution_count": 34,
   "metadata": {},
   "outputs": [
    {
     "name": "stdout",
     "output_type": "stream",
     "text": [
      "162.88\ttotal amount of rainfall\n",
      "\tlatitude: 21.33, longitude: -157.8, elevation: 152.4\n",
      "\tweather station: USC00516128 - MANOA LYON ARBO 785.2, HI US\n",
      "\n",
      "79.89\ttotal amount of rainfall\n",
      "\tlatitude: 21.45, longitude: -157.85, elevation: 32.9\n",
      "\tweather station: USC00519281 - WAIHEE 837.5, HI US\n",
      "\n",
      "52.15\ttotal amount of rainfall\n",
      "\tlatitude: 21.42, longitude: -157.8, elevation: 14.6\n",
      "\tweather station: USC00513117 - KANEOHE 838.1, HI US\n",
      "\n",
      "30.77\ttotal amount of rainfall\n",
      "\tlatitude: 21.34, longitude: -157.71, elevation: 19.5\n",
      "\tweather station: USC00519523 - WAIMANALO EXPERIMENTAL FARM, HI US\n",
      "\n",
      "27.29\ttotal amount of rainfall\n",
      "\tlatitude: 21.52, longitude: -157.84, elevation: 7.0\n",
      "\tweather station: USC00514830 - KUALOA RANCH HEADQUARTERS 886.9, HI US\n",
      "\n",
      "16.15\ttotal amount of rainfall\n",
      "\tlatitude: 21.27, longitude: -157.82, elevation: 3.0\n",
      "\tweather station: USC00519397 - WAIKIKI 717.2, HI US\n",
      "\n",
      "2.97\ttotal amount of rainfall\n",
      "\tlatitude: 21.39, longitude: -157.98, elevation: 11.9\n",
      "\tweather station: USC00517948 - PEARL CITY, HI US\n",
      "\n"
     ]
    }
   ],
   "source": [
    "# Calculate the total amount of rainfall per weather station for your trip dates using the previous year's \n",
    "# matching dates.\n",
    "# Sort this in descending order by precipitation amount and list the station, name, latitude, longitude, and elevation\n",
    "amount_of_rainfall_per_weather_station = session.query(\n",
    "    func.sum(Measurement.prcp), \n",
    "    Station.station, \n",
    "    Station.name, \n",
    "    Station.latitude, \n",
    "    Station.longitude, \n",
    "    Station.elevation\n",
    ").join(Measurement, Measurement.station == Station.station).\\\n",
    "group_by(Measurement.station).\\\n",
    "filter(\n",
    "    Measurement.date >= func.DATE(f\"{trip_year-1}-01-01\"),\n",
    "    Measurement.date <= func.DATE(f\"{trip_year-1}-12-31\")\n",
    ").order_by(func.sum(Measurement.prcp).desc())\n",
    "\n",
    "for weather_station in amount_of_rainfall_per_weather_station:\n",
    "    prcp_sum, station, name, lat, lng, elevation = weather_station\n",
    "    print(f\"{round(prcp_sum, 2)}\\ttotal amount of rainfall\")\n",
    "    print(f\"\\tlatitude: {round(lat, 2)}, longitude: {round(lng, 2)}, elevation: {round(elevation, 2)}\")\n",
    "    print(f\"\\tweather station: {station} - {name}\")\n",
    "    print()"
   ]
  },
  {
   "cell_type": "code",
   "execution_count": 35,
   "metadata": {},
   "outputs": [
    {
     "data": {
      "text/plain": [
       "[(62.0, 69.15384615384616, 77.0)]"
      ]
     },
     "execution_count": 35,
     "metadata": {},
     "output_type": "execute_result"
    }
   ],
   "source": [
    "# Use this function to calculate the daily normals \n",
    "# (i.e. the averages for tmin, tmax, and tavg for all historic data matching a specific month and day)\n",
    "\n",
    "def daily_normals(date):\n",
    "    \"\"\"Daily Normals.\n",
    "    \n",
    "    Args:\n",
    "        date (str): A date string in the format '%m-%d'\n",
    "        \n",
    "    Returns:\n",
    "        A list of tuples containing the daily normals, tmin, tavg, and tmax\n",
    "    \n",
    "    \"\"\"\n",
    "    \n",
    "    sel = [func.min(Measurement.tobs), func.avg(Measurement.tobs), func.max(Measurement.tobs)]\n",
    "    return session.query(*sel).filter(func.strftime(\"%m-%d\", Measurement.date) == date).all()\n",
    "\n",
    "# For example\n",
    "daily_normals(\"01-01\")"
   ]
  },
  {
   "cell_type": "code",
   "execution_count": null,
   "metadata": {},
   "outputs": [],
   "source": [
    "# calculate the daily normals for your trip\n",
    "# push each tuple of calculations into a list called `normals`\n",
    "\n",
    "# Set the start and end date of the trip\n",
    "start_date = '2017-08-01'\n",
    "end_date = '2017-08-07'\n",
    "\n",
    "# Use the start and end date to create a range of dates\n",
    "\n",
    "\n",
    "# Strip off the year and save a list of strings in the format %m-%d\n",
    "\n",
    "\n",
    "# Use the `daily_normals` function to calculate the normals for each date string \n",
    "# and append the results to a list called `normals`.\n"
   ]
  },
  {
   "cell_type": "code",
   "execution_count": null,
   "metadata": {},
   "outputs": [],
   "source": [
    "# Load the previous query results into a Pandas DataFrame and add the `trip_dates` range as the `date` index"
   ]
  },
  {
   "cell_type": "code",
   "execution_count": null,
   "metadata": {},
   "outputs": [],
   "source": [
    "# Plot the daily normals as an area plot with `stacked=False`"
   ]
  },
  {
   "cell_type": "markdown",
   "metadata": {},
   "source": [
    "## Close Session"
   ]
  },
  {
   "cell_type": "code",
   "execution_count": null,
   "metadata": {},
   "outputs": [],
   "source": []
  }
 ],
 "metadata": {
  "kernelspec": {
   "display_name": "Python 3",
   "language": "python",
   "name": "python3"
  },
  "language_info": {
   "codemirror_mode": {
    "name": "ipython",
    "version": 3
   },
   "file_extension": ".py",
   "mimetype": "text/x-python",
   "name": "python",
   "nbconvert_exporter": "python",
   "pygments_lexer": "ipython3",
   "version": "3.8.8"
  }
 },
 "nbformat": 4,
 "nbformat_minor": 4
}
